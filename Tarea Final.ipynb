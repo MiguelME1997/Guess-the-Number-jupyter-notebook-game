{
 "cells": [
  {
   "cell_type": "markdown",
   "id": "3486b492",
   "metadata": {},
   "source": [
    "# Programación básica con Python. Tarea final"
   ]
  },
  {
   "cell_type": "markdown",
   "id": "340efd1e",
   "metadata": {},
   "source": [
    "## Juego: Adivina el número"
   ]
  },
  {
   "cell_type": "markdown",
   "id": "2e8db695",
   "metadata": {},
   "source": [
    "#### Miguel Mitsou Errandonea. Octubre 2023"
   ]
  },
  {
   "cell_type": "code",
   "execution_count": 2,
   "id": "b5ba0420",
   "metadata": {},
   "outputs": [
    {
     "name": "stdout",
     "output_type": "stream",
     "text": [
      "Menú:\n",
      "1. Partida modo solitario\n",
      "2. Partida 2 jugadores\n",
      "3. Estadística\n",
      "4. Salir\n",
      "¿Qué operación deseas hacer? Escoge entre 1 y 4 según el menú4\n"
     ]
    }
   ],
   "source": [
    "%matplotlib inline\n",
    "import openpyxl\n",
    "from PIL import Image\n",
    "import Juego_Tarea as juego\n",
    "\n",
    "libro = openpyxl.Workbook()\n",
    "libro.save('Estadística.xlsx')\n",
    "\n",
    "def Juego(): #definición de función principal del juego\n",
    "        \n",
    "    print('Menú:\\n1. Partida modo solitario\\n2. Partida 2 jugadores\\n3. Estadística\\n4. Salir') #imprime menú\n",
    "    try: #evitar errores de texto\n",
    "        accion = int(input('¿Qué operación deseas hacer? Escoge entre 1 y 4 según el menú')) #se escoge la acción\n",
    "    except:\n",
    "        accion = int(input('Clave no válida. Por favor, introduce un número entre 1 y 4 según el menú'))\n",
    "    while accion > 4 or accion <1:\n",
    "        accion = int(input('Clave no válida. Por favor, introduce un número entre 1 y 4 según el menú')) #comprobar número\n",
    "        \n",
    "    if accion == 4:\n",
    "        return\n",
    "        \n",
    "    if accion == 1:\n",
    "        devuelve = juego.modo_solitario()\n",
    "        resultado = devuelve[0]\n",
    "        lista_intentos = devuelve[1]\n",
    "        solucion = devuelve[2]\n",
    "        if resultado == 1:\n",
    "            print('Jugador 1, ¡has ganado a la máquina!')\n",
    "            imagen = Image.open('victoria.png')\n",
    "            imagen.show()\n",
    "    \n",
    "        elif resultado ==2:\n",
    "            print('Jugador 1, la máquina te ha machacado...')\n",
    "            imagen = Image.open('derrota.png')\n",
    "            imagen.show()\n",
    "        \n",
    "        juego.guardar_datos(resultado, lista_intentos, solucion, 1)\n",
    "        Juego()\n",
    "    \n",
    "    if accion == 2:\n",
    "        devuelve = juego.dos_jugadores()\n",
    "        resultado = devuelve[0] #el resultado; si ha sido victoria (1) o derrota (2)\n",
    "        lista_intentos = devuelve[1] #la lista de intentos insertados por el jugador 1\n",
    "        solucion = devuelve[2] #el número solución del juego, ya sea generado aleatoriamente o introducido por el jugador 2\n",
    "        if resultado == 1:\n",
    "            print('Jugador 1, ¡has ganado!')\n",
    "            imagen = Image.open('victoria.png')\n",
    "            imagen.show()\n",
    "        elif resultado ==2:\n",
    "            print('Jugador 2, ¡has ganado!')\n",
    "            imagen = Image.open('derrota.png')\n",
    "            imagen.show()\n",
    "        juego.guardar_datos(resultado, lista_intentos, solucion, 2)\n",
    "        Juego()\n",
    "         \n",
    "    if accion == 3:\n",
    "        libro = openpyxl.load_workbook('Estadística.xlsx')\n",
    "        jugador = str(input('Nombre del jugador:\\n'))\n",
    "        while jugador not in libro.sheetnames:\n",
    "            jugador = str(input('Este jugador no está registrado.\\nPrueba de nuevo.\\n'+\n",
    "                                '(Recuerda que las mayúsculas y espacios cuentan):'))\n",
    "            \n",
    "        hoja = libro[jugador]\n",
    "        seleccion_celdas = hoja['A1':'B5']\n",
    "        for fila in seleccion_celdas:\n",
    "            for celda in fila:\n",
    "                print(celda.value)\n",
    "            print()\n",
    "        Juego()\n",
    "        \n",
    "\n",
    "\n",
    "Juego()"
   ]
  },
  {
   "cell_type": "code",
   "execution_count": null,
   "id": "898baffc",
   "metadata": {},
   "outputs": [],
   "source": []
  }
 ],
 "metadata": {
  "kernelspec": {
   "display_name": "Python 3 (ipykernel)",
   "language": "python",
   "name": "python3"
  },
  "language_info": {
   "codemirror_mode": {
    "name": "ipython",
    "version": 3
   },
   "file_extension": ".py",
   "mimetype": "text/x-python",
   "name": "python",
   "nbconvert_exporter": "python",
   "pygments_lexer": "ipython3",
   "version": "3.10.0"
  }
 },
 "nbformat": 4,
 "nbformat_minor": 5
}
